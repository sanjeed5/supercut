{
  "nbformat": 4,
  "nbformat_minor": 0,
  "metadata": {
    "colab": {
      "provenance": [],
      "authorship_tag": "ABX9TyN/WIvsIBG0wZDH3u4dkHnp",
      "include_colab_link": true
    },
    "kernelspec": {
      "name": "python3",
      "display_name": "Python 3"
    },
    "language_info": {
      "name": "python"
    }
  },
  "cells": [
    {
      "cell_type": "markdown",
      "metadata": {
        "id": "view-in-github",
        "colab_type": "text"
      },
      "source": [
        "<a href=\"https://colab.research.google.com/github/sanjeed5/supercut/blob/main/Supercut.ipynb\" target=\"_parent\"><img src=\"https://colab.research.google.com/assets/colab-badge.svg\" alt=\"Open In Colab\"/></a>"
      ]
    },
    {
      "cell_type": "markdown",
      "source": [
        "# Supercut! ⚡📽\n",
        "\n",
        "Make videos like below with just a single word.\n",
        "In this case, the word was \"experience\"\n"
      ],
      "metadata": {
        "id": "Zqz7xrqeg0fz"
      }
    },
    {
      "cell_type": "code",
      "source": [
        "# @title\n",
        "from IPython.display import HTML\n",
        "\n",
        "HTML('<iframe width=\"560\" height=\"315\" src=\"https://www.youtube.com/embed/nGHbOckpifw?si=46VOTUuoveIq9hE9\" title=\"YouTube video player\" frameborder=\"0\" allow=\"accelerometer; autoplay; clipboard-write; encrypted-media; gyroscope; picture-in-picture; web-share\" referrerpolicy=\"strict-origin-when-cross-origin\" allowfullscreen></iframe>')"
      ],
      "metadata": {
        "colab": {
          "base_uri": "https://localhost:8080/",
          "height": 336
        },
        "cellView": "form",
        "id": "GBXVpsiPhXvp",
        "outputId": "c7fb1145-fed5-4ae2-d16a-69d34ed8b394"
      },
      "execution_count": 7,
      "outputs": [
        {
          "output_type": "execute_result",
          "data": {
            "text/plain": [
              "<IPython.core.display.HTML object>"
            ],
            "text/html": [
              "<iframe width=\"560\" height=\"315\" src=\"https://www.youtube.com/embed/nGHbOckpifw?si=46VOTUuoveIq9hE9\" title=\"YouTube video player\" frameborder=\"0\" allow=\"accelerometer; autoplay; clipboard-write; encrypted-media; gyroscope; picture-in-picture; web-share\" referrerpolicy=\"strict-origin-when-cross-origin\" allowfullscreen></iframe>"
            ]
          },
          "metadata": {},
          "execution_count": 7
        }
      ]
    },
    {
      "cell_type": "markdown",
      "source": [
        "### Press the play button to run the code below to setup everything.\n",
        "\n",
        "*Feel free to go through the code to see how it works*"
      ],
      "metadata": {
        "id": "ncTLhVE5igoL"
      }
    },
    {
      "cell_type": "code",
      "source": [
        "# @title\n",
        "%%capture\n",
        "!pip3 install yt-dlp videogrep\n",
        "\n",
        "import warnings\n",
        "\n",
        "warnings.filterwarnings(\"ignore\", category=SyntaxWarning, message='\"is\" with a literal')\n",
        "\n",
        "# Defining functions\n",
        "\n",
        "from IPython.display import HTML\n",
        "from base64 import b64encode\n",
        "import yt_dlp\n",
        "from yt_dlp import YoutubeDL\n",
        "import videogrep\n",
        "from glob import glob\n",
        "\n",
        "# Helper function to play video\n",
        "def play_video(filename):\n",
        "    mp4 = open(filename,'rb').read()\n",
        "    data_url = \"data:video/mp4;base64,\" + b64encode(mp4).decode()\n",
        "    return HTML(\"\"\"\n",
        "    <video width=400 controls>\n",
        "          <source src=\"%s\" type=\"video/mp4\">\n",
        "    </video>\n",
        "    \"\"\" % data_url)\n",
        "\n",
        "\n",
        "def search_and_download(query, max_videos=2):\n",
        "    ydl_opts = {\n",
        "        'format': 'best',  # Download the best quality video available\n",
        "        # 'format': 'best[height<=720]',\n",
        "        'noplaylist': True,  # Ensure no playlists are downloaded\n",
        "        'max_downloads': max_videos,  # Limit downloads to max_videos\n",
        "        'outtmpl': f'{query}_%(autonumber)s.%(ext)s',  # Custom output template\n",
        "        'writesubtitles': True,  # Download subtitles if available\n",
        "        'writeautomaticsub': True,  # Download auto-generated subtitles\n",
        "        'skip_download': True,  # Skip downloading for subtitle check\n",
        "    }\n",
        "\n",
        "    with YoutubeDL(ydl_opts) as ydl:\n",
        "        try:\n",
        "            # Search for videos\n",
        "            result = ydl.extract_info(f\"ytsearch{max_videos}:{query}\", download=False)\n",
        "            if result and 'entries' in result:\n",
        "                downloaded_count = 0\n",
        "                for entry in result['entries'][:max_videos]:\n",
        "                    # Check if subtitles (manual or auto) are available\n",
        "                    subtitles = entry.get('subtitles', {})\n",
        "                    automatic_captions = entry.get('automatic_captions', {})\n",
        "                    if subtitles or automatic_captions:\n",
        "                        # Update options to enable download\n",
        "                        ydl_opts['skip_download'] = False\n",
        "                        with YoutubeDL(ydl_opts) as download_ydl:\n",
        "                            download_ydl.download([entry['webpage_url']])\n",
        "                            print(f\"Downloaded: {entry.get('title', 'N/A')} ({entry.get('webpage_url', 'N/A')})\")\n",
        "                            downloaded_count += 1\n",
        "                    else:\n",
        "                        print(f\"Skipped: {entry.get('title', 'N/A')} (No subtitles available)\")\n",
        "\n",
        "                if downloaded_count == 0:\n",
        "                    print(\"No videos with subtitles found.\")\n",
        "            else:\n",
        "                print(\"No videos found for the given query.\")\n",
        "        except yt_dlp.utils.DownloadError as e:\n",
        "            print(f\"Download error: {str(e)}\")\n",
        "        except yt_dlp.utils.MaxDownloadsReached:\n",
        "            print(f\"Max downloads of {max_videos} reached.\")\n",
        "        except Exception as e:\n",
        "            print(f\"An unexpected error occurred: {e}\")\n",
        "\n",
        "\n",
        "\n",
        "# Supercut!\n",
        "def auto_supercut(query):\n",
        "    \"\"\"\n",
        "    Make a supercut with the query video files\n",
        "    \"\"\"\n",
        "\n",
        "    # grab the videos we just downloaded\n",
        "    files = glob(query + \"*.mp4\")\n",
        "    print(files)\n",
        "\n",
        "    # run videogrep\n",
        "    # videogrep.videogrep(files, query, search_type=\"fragment\")\n",
        "    videogrep.videogrep(files, query.lower())"
      ],
      "metadata": {
        "id": "sACK3MnkOVqc"
      },
      "execution_count": 26,
      "outputs": []
    },
    {
      "cell_type": "code",
      "source": [
        "# @title Supercut! - Enter a word and click the play button to see the magic! {\"display-mode\":\"form\"}\n",
        "search_query = \"Artificial intelligence\" # @param {\"type\":\"string\",\"placeholder\":\"Word you'd like to search for supercut\"}\n",
        "# search_query = input(\"Enter your search query: \")\n",
        "try:\n",
        "  search_and_download(search_query,2)\n",
        "  auto_supercut(search_query)\n",
        "  play_video(\"supercut.mp4\")\n",
        "except Exception as e:\n",
        "  print(f\"An error occurred: {e}\")"
      ],
      "metadata": {
        "colab": {
          "base_uri": "https://localhost:8080/"
        },
        "collapsed": true,
        "id": "i7Q1Ofu0U0rI",
        "outputId": "35795968-b280-4008-e03b-343b73c0e935"
      },
      "execution_count": 27,
      "outputs": [
        {
          "output_type": "stream",
          "name": "stdout",
          "text": [
            "[youtube:search] Extracting URL: ytsearch2:Artificial intelligence\n",
            "[download] Downloading playlist: Artificial intelligence\n",
            "[youtube:search] query \"Artificial intelligence\": Downloading web client config\n",
            "[youtube:search] query \"Artificial intelligence\" page 1: Downloading API JSON\n",
            "[youtube:search] Playlist Artificial intelligence: Downloading 2 items of 2\n",
            "[download] Downloading item 1 of 2\n",
            "[youtube] Extracting URL: https://www.youtube.com/watch?v=Tq6_7XyCyyI\n",
            "[youtube] Tq6_7XyCyyI: Downloading webpage\n",
            "[youtube] Tq6_7XyCyyI: Downloading ios player API JSON\n",
            "[youtube] Tq6_7XyCyyI: Downloading mweb player API JSON\n",
            "[youtube] Tq6_7XyCyyI: Downloading m3u8 information\n",
            "[info] Tq6_7XyCyyI: Downloading subtitles: en\n",
            "[download] Downloading item 2 of 2\n",
            "[youtube] Extracting URL: https://www.youtube.com/watch?v=JMUxmLyrhSk\n",
            "[youtube] JMUxmLyrhSk: Downloading webpage\n",
            "[youtube] JMUxmLyrhSk: Downloading ios player API JSON\n",
            "[youtube] JMUxmLyrhSk: Downloading mweb player API JSON\n",
            "[youtube] JMUxmLyrhSk: Downloading m3u8 information\n",
            "[info] JMUxmLyrhSk: Downloading subtitles: en\n",
            "[download] Finished downloading playlist: Artificial intelligence\n",
            "[youtube] Extracting URL: https://www.youtube.com/watch?v=Tq6_7XyCyyI\n",
            "[youtube] Tq6_7XyCyyI: Downloading webpage\n",
            "[youtube] Tq6_7XyCyyI: Downloading ios player API JSON\n",
            "[youtube] Tq6_7XyCyyI: Downloading mweb player API JSON\n",
            "[youtube] Tq6_7XyCyyI: Downloading m3u8 information\n",
            "[info] Tq6_7XyCyyI: Downloading subtitles: en\n",
            "[info] Tq6_7XyCyyI: Downloading 1 format(s): 18\n",
            "Deleting existing file Artificial intelligence_00001.en.vtt\n",
            "[info] Writing video subtitles to: Artificial intelligence_00001.en.vtt\n",
            "[download] Destination: Artificial intelligence_00001.en.vtt\n",
            "[download] 100% of   20.19KiB in 00:00:00 at 546.61KiB/s\n",
            "[download] Artificial intelligence_00001.mp4 has already been downloaded\n",
            "[download] 100% of   33.42MiB\n",
            "Downloaded: Is AI Progress Stuck? | Jennifer Golbeck | TED (https://www.youtube.com/watch?v=Tq6_7XyCyyI)\n",
            "[youtube] Extracting URL: https://www.youtube.com/watch?v=JMUxmLyrhSk\n",
            "[youtube] JMUxmLyrhSk: Downloading webpage\n",
            "[youtube] JMUxmLyrhSk: Downloading ios player API JSON\n",
            "[youtube] JMUxmLyrhSk: Downloading mweb player API JSON\n",
            "[youtube] JMUxmLyrhSk: Downloading m3u8 information\n",
            "[info] JMUxmLyrhSk: Downloading subtitles: en\n",
            "[info] JMUxmLyrhSk: Downloading 1 format(s): 18\n",
            "Deleting existing file Artificial intelligence_00001.en.vtt\n",
            "[info] Writing video subtitles to: Artificial intelligence_00001.en.vtt\n",
            "[download] Destination: Artificial intelligence_00001.en.vtt\n",
            "[download] 100% of  496.64KiB in 00:00:00 at 4.71MiB/s\n",
            "[download] Artificial intelligence_00001.mp4 has already been downloaded\n",
            "[download] 100% of   33.42MiB\n",
            "Downloaded: Artificial Intelligence Full Course | Artificial Intelligence Tutorial for Beginners | Edureka (https://www.youtube.com/watch?v=JMUxmLyrhSk)\n",
            "['Artificial intelligence_00002.mp4', 'Artificial intelligence_00001.mp4']\n",
            "[+] Creating clips.\n",
            "[+] Concatenating clips.\n",
            "[+] Writing ouput file.\n",
            "Moviepy - Building video supercut.mp4.tmp0.mp4.\n",
            "MoviePy - Writing audio in supercut.mp4.tmp0.mp4_temp-audio1732224500.4467347.m4a\n"
          ]
        },
        {
          "output_type": "stream",
          "name": "stderr",
          "text": []
        },
        {
          "output_type": "stream",
          "name": "stdout",
          "text": [
            "MoviePy - Done.\n",
            "Moviepy - Writing video supercut.mp4.tmp0.mp4\n",
            "\n"
          ]
        },
        {
          "output_type": "stream",
          "name": "stderr",
          "text": []
        },
        {
          "output_type": "stream",
          "name": "stdout",
          "text": [
            "Moviepy - Done !\n",
            "Moviepy - video ready supercut.mp4.tmp0.mp4\n",
            "[+] Creating clips.\n",
            "[+] Creating clips.\n",
            "[+] Creating clips.\n",
            "Moviepy - Building video supercut.mp4.\n",
            "MoviePy - Writing audio in supercut.mp4_temp-audio1732224535.1598241.m4a\n"
          ]
        },
        {
          "output_type": "stream",
          "name": "stderr",
          "text": []
        },
        {
          "output_type": "stream",
          "name": "stdout",
          "text": [
            "MoviePy - Done.\n",
            "Moviepy - Writing video supercut.mp4\n",
            "\n"
          ]
        },
        {
          "output_type": "stream",
          "name": "stderr",
          "text": [
            "t:  99%|█████████▉| 1699/1708 [00:25<00:00, 91.41it/s, now=None]WARNING:py.warnings:/usr/local/lib/python3.10/dist-packages/moviepy/video/io/ffmpeg_reader.py:123: UserWarning: Warning: in file supercut.mp4.tmp0.mp4, 691200 bytes wanted but 0 bytes read,at frame 1707/1708, at time 56.96/56.96 sec. Using the last valid frame instead.\n",
            "  warnings.warn(\"Warning: in file %s, \"%(self.filename)+\n",
            "\n"
          ]
        },
        {
          "output_type": "stream",
          "name": "stdout",
          "text": [
            "Moviepy - Done !\n",
            "Moviepy - video ready supercut.mp4\n"
          ]
        }
      ]
    },
    {
      "cell_type": "code",
      "source": [
        "# Download Youtube Videos\n",
        "def search_and_download(query, max_videos=2):\n",
        "    ydl_opts = {\n",
        "        'format': 'best',\n",
        "        # 'format': 'best[height<=720]',\n",
        "        'noplaylist': True,\n",
        "        'max_downloads': max_videos,  # Limit downloads to max_videos\n",
        "        'outtmpl': f'{query}_%(autonumber)s.%(ext)s', # Custom output template\n",
        "        'writesubtitles': True, # Download subtitles if available\n",
        "        'writeautomaticsub': True # Download auto-generated subtitles\n",
        "    }\n",
        "\n",
        "    with YoutubeDL(ydl_opts) as ydl:\n",
        "        try:\n",
        "            result = ydl.extract_info(f\"ytsearch{max_videos}:{query}\", download=True)\n",
        "            if result and 'entries' in result:\n",
        "                for i, entry in enumerate(result['entries'][:max_videos]):\n",
        "                    print(f\"Downloaded: {entry.get('title', 'N/A')}\")\n",
        "            else:\n",
        "                print(\"No videos found or download failed.\")\n",
        "        except yt_dlp.utils.DownloadError as e:\n",
        "            # Check if the error is due to MaxDownloadsReached and ignore it\n",
        "            if not isinstance(e.exc_info[1], yt_dlp.utils.MaxDownloadsReached):\n",
        "                print(f\"An error occurred: {e}\")\n",
        "        except yt_dlp.utils.MaxDownloadsReached as e:\n",
        "            print(f\"Max downloads of {max_videos} reached. {e}\")\n",
        "        except Exception as e:\n",
        "            print(f\"An unexpected error occurred: {e}\")\n",
        "\n"
      ],
      "metadata": {
        "id": "yLKUQqaYluVV"
      },
      "execution_count": null,
      "outputs": []
    },
    {
      "cell_type": "markdown",
      "source": [
        "Credits:\n",
        "\n",
        "- [yt-dlp](https://github.com/yt-dlp/yt-dlp) team\n",
        "- [videogrep](https://github.com/antiboredom/videogrep/tree/master) team"
      ],
      "metadata": {
        "id": "g26cYjrHjM74"
      }
    }
  ]
}